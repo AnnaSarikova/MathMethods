{
 "cells": [
  {
   "cell_type": "code",
   "execution_count": 57,
   "id": "f8b5fa46",
   "metadata": {},
   "outputs": [],
   "source": [
    "import numpy as np\n",
    "from scipy.optimize import linprog"
   ]
  },
  {
   "cell_type": "code",
   "execution_count": 58,
   "id": "70150023",
   "metadata": {},
   "outputs": [],
   "source": [
    "a = np.array([320, 250, 330])\n",
    "b = np.array([160, 120, 210, 230, 180])\n",
    "c = np.array([[13, 8, 15, 10, 7], \n",
    "              [6, 18, 12, 9, 4], \n",
    "              [14, 11, 16, 17, 25]])"
   ]
  },
  {
   "cell_type": "code",
   "execution_count": 59,
   "id": "2fcb57ee",
   "metadata": {},
   "outputs": [
    {
     "data": {
      "text/plain": [
       "900"
      ]
     },
     "execution_count": 59,
     "metadata": {},
     "output_type": "execute_result"
    }
   ],
   "source": [
    "sum(a)"
   ]
  },
  {
   "cell_type": "code",
   "execution_count": 60,
   "id": "e2308d18",
   "metadata": {},
   "outputs": [
    {
     "data": {
      "text/plain": [
       "900"
      ]
     },
     "execution_count": 60,
     "metadata": {},
     "output_type": "execute_result"
    }
   ],
   "source": [
    "sum(b)"
   ]
  },
  {
   "cell_type": "code",
   "execution_count": 61,
   "id": "1e78bbc7",
   "metadata": {},
   "outputs": [
    {
     "data": {
      "text/plain": [
       "True"
      ]
     },
     "execution_count": 61,
     "metadata": {},
     "output_type": "execute_result"
    }
   ],
   "source": [
    "sum(a) == sum(b) #Суммы равны, следовательно это задача закрытого типа"
   ]
  },
  {
   "cell_type": "code",
   "execution_count": 62,
   "id": "1bda5d4e",
   "metadata": {},
   "outputs": [],
   "source": [
    "# Необходима функция нахождения индексов минимального элемента матрицы\n",
    "def minInd(minC):\n",
    "    c = np.inf\n",
    "    for i in range(minC.shape[0]):\n",
    "        for j in range(minC.shape[1]):\n",
    "            if (minC[i, j] !=0) and (minC[i, j]<c):\n",
    "                c = minC[i, j]\n",
    "                i1, j1 = i, j\n",
    "    return i1, j1"
   ]
  },
  {
   "cell_type": "code",
   "execution_count": 63,
   "id": "f3211d39",
   "metadata": {},
   "outputs": [],
   "source": [
    "# Функция минимального элемента\n",
    "def minElement(a, b, c, print = False):\n",
    "    a = np.copy(a)\n",
    "    b = np.copy(b)\n",
    "    c = np.copy(c)        \n",
    "    m = len(a)\n",
    "    n = len(b)\n",
    "    x = np.zeros((m, n), dtype=int) #матрица для x\n",
    "    f = 0\n",
    "    while True:\n",
    "        minC = np.zeros((m,n))\n",
    "        for i in range(m):\n",
    "            for j in range(n):\n",
    "                minC[i, j] = (c[i, j]*min(a[i], b[j])) #матрица суммарных расходов\n",
    "        i, j = minInd(minC) #индексы мин.элемента\n",
    "        Xij = int(min(a[i], b[j]))\n",
    "        x[i, j] = Xij \n",
    "        f += int(minC[i, j]) \n",
    "        a[i] -= Xij \n",
    "        b[j] -= Xij \n",
    "        if print:\n",
    "            print('minC:')\n",
    "            print(minC.astype(int))\n",
    "            print('a: ', a)\n",
    "            print('b: ', b)\n",
    "            print()\n",
    "        if len(minC[minC>0])==1: \n",
    "            break\n",
    "    return x, f "
   ]
  },
  {
   "cell_type": "markdown",
   "id": "606a0b1a",
   "metadata": {},
   "source": [
    "Метод Северо-западного угла"
   ]
  },
  {
   "cell_type": "code",
   "execution_count": 64,
   "id": "fd7215b7",
   "metadata": {},
   "outputs": [],
   "source": [
    "def northwest(a, b, c):\n",
    "    a = np.copy(a)\n",
    "    b = np.copy(b)\n",
    "    c = np.copy(c)\n",
    "    m = len(a)\n",
    "    n = len(b)\n",
    "    i = 0\n",
    "    j = 0\n",
    "    f = 0\n",
    "    x = np.zeros((m, n), dtype=int)\n",
    "    while (i<m) and (j<n): \n",
    "        Xij = min(a[i], b[j]) \n",
    "        f += c[i, j]*min(a[i], b[j]) \n",
    "        a[i] -= Xij \n",
    "        b[j] -= Xij \n",
    "        x[i, j] = Xij \n",
    "    \n",
    "        if a[i]>b[j]: \n",
    "            j += 1\n",
    "        elif a[i]<b[j]:\n",
    "            i += 1\n",
    "        else:\n",
    "            i += 1\n",
    "            j += 1\n",
    "    return x, f "
   ]
  },
  {
   "cell_type": "markdown",
   "id": "31e0cab4",
   "metadata": {},
   "source": [
    "Метод потенциалов"
   ]
  },
  {
   "cell_type": "code",
   "execution_count": 65,
   "id": "b67c7f0b",
   "metadata": {},
   "outputs": [],
   "source": [
    "def delta(a, b, c, x): \n",
    "    m = len(a)\n",
    "    n = len(b)\n",
    "    u = np.zeros(m)\n",
    "    v = np.zeros(n)\n",
    "\n",
    "    for i in range(m):\n",
    "        for j in range(n):\n",
    "            if x[i, j] != 0: \n",
    "                if v[j] != 0:\n",
    "                    u[i] = c[i, j]-v[j]\n",
    "                else:\n",
    "                    v[j] = c[i, j]-u[i]\n",
    "\n",
    "    delta = np.zeros((m, n))\n",
    "    for i in range(m):\n",
    "        for j in range(n):\n",
    "            delta[i, j] = u[i] + v[j] - c[i, j] \n",
    "    return delta"
   ]
  },
  {
   "cell_type": "code",
   "execution_count": 70,
   "id": "ae6bdb50",
   "metadata": {},
   "outputs": [],
   "source": [
    "# Функция возвращает матрицу системы ограничений\n",
    "def pre(a, b):\n",
    "    m = len(a)\n",
    "    n = len(b)\n",
    "    u = np.diag(np.ones(n))\n",
    "    v = np.zeros((m, n))\n",
    "    v[0] = 1\n",
    "    for i in range(1, m):\n",
    "        u = np.hstack((u, np.diag(np.ones(n))))\n",
    "        k = np.zeros((m, n))\n",
    "        k[i]=1\n",
    "        v = np.hstack((v, k))\n",
    "    return np.vstack((u, v)).astype(int), np.hstack((b,a))\n",
    "\n",
    "# Метод потенциалов\n",
    "def potentials(a, b, c):\n",
    "    a = np.copy(a)\n",
    "    b = np.copy(b)\n",
    "    c = np.copy(c)\n",
    "    m = len(a)\n",
    "    n = len(b)\n",
    "    A_eq, b_eq = pre(a, b)\n",
    "    res = linprog(c.reshape(1, -1), A_eq=A_eq, b_eq=b_eq, bounds=(0, None), method='simplex')\n",
    "    return res.x.astype(int).reshape(m, n), res.fun.astype(int) # возращаем матрицу x и целевую функцию"
   ]
  },
  {
   "cell_type": "code",
   "execution_count": 71,
   "id": "cb9a87a4",
   "metadata": {},
   "outputs": [
    {
     "name": "stdout",
     "output_type": "stream",
     "text": [
      "Метод минимального элемента: \n",
      " [[ 90 120   0 110   0]\n",
      " [ 70   0   0   0 180]\n",
      " [  0   0 210 120   0]]\n",
      "Целевая функция:  9770\n",
      "\n",
      "Дельта матрица для М - метода: \n",
      " [[  0.   0.   1.   0.   4.]\n",
      " [  0. -17.  -3.  -6.   0.]\n",
      " [  6.   4.   7.   0.  -7.]]\n"
     ]
    }
   ],
   "source": [
    "x, f = minElement(a, b, c)\n",
    "print('Метод минимального элемента: \\n', x)\n",
    "print('Целевая функция: ', f)\n",
    "print()\n",
    "print('Дельта матрица для М - метода: \\n', delta(a, b, c, x))"
   ]
  },
  {
   "cell_type": "code",
   "execution_count": 72,
   "id": "c029f0e7",
   "metadata": {},
   "outputs": [
    {
     "name": "stdout",
     "output_type": "stream",
     "text": [
      "Метод северо-западного угла: \n",
      " [[160 120  40   0   0]\n",
      " [  0   0 170  80   0]\n",
      " [  0   0   0 150 180]]\n",
      "Целевая функция:  13450\n",
      "\n",
      "Дельта матрица для метода северо-западного угла: \n",
      " [[  0.   0.   0.   2.  13.]\n",
      " [  4. -13.   0.   0.  13.]\n",
      " [  4.   2.   4.   0.   0.]]\n"
     ]
    }
   ],
   "source": [
    "x1, f1 = northwest(a, b, c)\n",
    "print('Метод северо-западного угла: \\n', x1)\n",
    "print('Целевая функция: ', f1)\n",
    "print()\n",
    "print('Дельта матрица для метода северо-западного угла: \\n', delta(a, b, c, x1))"
   ]
  },
  {
   "cell_type": "code",
   "execution_count": 73,
   "id": "caab399f",
   "metadata": {},
   "outputs": [
    {
     "name": "stdout",
     "output_type": "stream",
     "text": [
      "Метод потенциалов: \n",
      " [[  0   0   0 230  90]\n",
      " [160   0   0   0  90]\n",
      " [  0 120 210   0   0]]\n",
      "Целевая функция:  8930\n",
      "\n",
      "Дельта матрица для метода потенциалов: \n",
      " [[ -7.   3.   1.   0.   0.]\n",
      " [ -3. -10.   1.  -2.   0.]\n",
      " [ -8.   0.   0.  -7. -18.]]\n"
     ]
    },
    {
     "name": "stderr",
     "output_type": "stream",
     "text": [
      "C:\\Users\\anyut\\AppData\\Local\\Temp/ipykernel_3296/361978885.py:23: OptimizeWarning: A_eq does not appear to be of full row rank. To improve performance, check the problem formulation for redundant equality constraints.\n",
      "  res = linprog(c.reshape(1, -1), A_eq=A_eq, b_eq=b_eq, bounds=(0, None), method='simplex')\n"
     ]
    }
   ],
   "source": [
    "x2, funk2 = potentials(a, b, c)\n",
    "print('Метод потенциалов: \\n', x2)\n",
    "print('Целевая функция: ', funk2)\n",
    "print()\n",
    "print('Дельта матрица для метода потенциалов: \\n', delta(a, b, c, x2))"
   ]
  },
  {
   "cell_type": "code",
   "execution_count": null,
   "id": "e42cfc29",
   "metadata": {},
   "outputs": [],
   "source": []
  }
 ],
 "metadata": {
  "kernelspec": {
   "display_name": "Python 3 (ipykernel)",
   "language": "python",
   "name": "python3"
  },
  "language_info": {
   "codemirror_mode": {
    "name": "ipython",
    "version": 3
   },
   "file_extension": ".py",
   "mimetype": "text/x-python",
   "name": "python",
   "nbconvert_exporter": "python",
   "pygments_lexer": "ipython3",
   "version": "3.9.7"
  }
 },
 "nbformat": 4,
 "nbformat_minor": 5
}
